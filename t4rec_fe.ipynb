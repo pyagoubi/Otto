{
 "cells": [
  {
   "cell_type": "code",
   "execution_count": 1,
   "id": "aaf7e016",
   "metadata": {
    "_cell_guid": "b1076dfc-b9ad-4769-8c92-a6c4dae69d19",
    "_uuid": "8f2839f25d086af736a60e9eeb907d3b93b6e0e5",
    "execution": {
     "iopub.execute_input": "2022-12-01T15:20:43.392825Z",
     "iopub.status.busy": "2022-12-01T15:20:43.392300Z",
     "iopub.status.idle": "2022-12-01T15:24:11.357682Z",
     "shell.execute_reply": "2022-12-01T15:24:11.356410Z"
    },
    "papermill": {
     "duration": 207.974112,
     "end_time": "2022-12-01T15:24:11.360582",
     "exception": false,
     "start_time": "2022-12-01T15:20:43.386470",
     "status": "completed"
    },
    "tags": []
   },
   "outputs": [],
   "source": [
    "%%capture\n",
    "try:\n",
    "    import transformers4rec\n",
    "except:\n",
    "    print(\"Install packages\\n\\n\")\n",
    "    !pip install transformers4rec[pytorch,nvtabular]\n",
    "    !pip install -U nvtabular==1.3.3\n",
    "    !pip install beartype\n",
    "    !pip install -U pytorch_lightning"
   ]
  },
  {
   "cell_type": "code",
   "execution_count": 2,
   "id": "b546286a",
   "metadata": {
    "execution": {
     "iopub.execute_input": "2022-12-01T15:24:11.368806Z",
     "iopub.status.busy": "2022-12-01T15:24:11.368495Z",
     "iopub.status.idle": "2022-12-01T15:24:20.057970Z",
     "shell.execute_reply": "2022-12-01T15:24:20.056941Z"
    },
    "papermill": {
     "duration": 8.696363,
     "end_time": "2022-12-01T15:24:20.060647",
     "exception": false,
     "start_time": "2022-12-01T15:24:11.364284",
     "status": "completed"
    },
    "tags": []
   },
   "outputs": [],
   "source": [
    "import os\n",
    "import ast\n",
    "import json\n",
    "import glob\n",
    "import torch\n",
    "import warnings\n",
    "import numpy as np\n",
    "import pandas as pd\n",
    "import seaborn as sns\n",
    "import nvtabular as nvt\n",
    "import matplotlib.pyplot as plt\n",
    "import gc\n",
    "import cudf\n",
    "import joblib\n",
    "\n",
    "from tqdm import tqdm\n",
    "from datetime import datetime\n",
    "from collections import Counter\n",
    "from sklearn import preprocessing\n",
    "\n",
    "warnings.simplefilter(action='ignore', category=FutureWarning)\n",
    "warnings.simplefilter(action='ignore', category=UserWarning)\n",
    "\n",
    "from nvtabular.ops import *\n",
    "from merlin.schema.tags import Tags\n",
    "from merlin_standard_lib import Schema\n",
    "#from transformers4rec import torch as tr\n",
    "#from transformers4rec.torch import Trainer\n",
    "#from transformers4rec.torch.ranking_metric import RecallAt\n",
    "from nvtabular.loader.torch import TorchAsyncItr, DLDataLoader\n",
    "from transformers4rec.config.trainer import T4RecTrainingArguments"
   ]
  },
  {
   "cell_type": "code",
   "execution_count": 3,
   "id": "86662492",
   "metadata": {
    "execution": {
     "iopub.execute_input": "2022-12-01T15:24:20.069769Z",
     "iopub.status.busy": "2022-12-01T15:24:20.068077Z",
     "iopub.status.idle": "2022-12-01T15:24:20.074574Z",
     "shell.execute_reply": "2022-12-01T15:24:20.073528Z"
    },
    "papermill": {
     "duration": 0.012808,
     "end_time": "2022-12-01T15:24:20.076670",
     "exception": false,
     "start_time": "2022-12-01T15:24:20.063862",
     "status": "completed"
    },
    "tags": []
   },
   "outputs": [],
   "source": [
    "PARENT_PATH =  '/kaggle/working/'\n",
    "\n",
    "CAT_PATH = os.path.join(PARENT_PATH, 'cat')\n",
    "os.makedirs(CAT_PATH, exist_ok = True)\n",
    "\n",
    "OUTPUT_PATH = os.path.join(PARENT_PATH, 'output')\n",
    "os.makedirs(OUTPUT_PATH, exist_ok = True)\n"
   ]
  },
  {
   "cell_type": "code",
   "execution_count": 4,
   "id": "78071969",
   "metadata": {
    "execution": {
     "iopub.execute_input": "2022-12-01T15:24:20.083828Z",
     "iopub.status.busy": "2022-12-01T15:24:20.083570Z",
     "iopub.status.idle": "2022-12-01T15:24:30.321579Z",
     "shell.execute_reply": "2022-12-01T15:24:30.320587Z"
    },
    "papermill": {
     "duration": 10.244286,
     "end_time": "2022-12-01T15:24:30.323980",
     "exception": false,
     "start_time": "2022-12-01T15:24:20.079694",
     "status": "completed"
    },
    "tags": []
   },
   "outputs": [],
   "source": [
    "train_w1 = dict()\n",
    "label_w1 = dict()\n",
    "\n",
    "for file in glob.glob(\"/kaggle/input/otto-prep-4-weeks/train_w0_part*.parquet\"):\n",
    "   train_w1[file] = pd.read_parquet(file)\n",
    "\n",
    "for file in glob.glob(\"/kaggle/input/otto-prep-4-weeks/label_w0_part*.parquet\"):\n",
    "   label_w1[file] = pd.read_parquet(file)\n",
    "\n",
    "train_w1 = pd.concat(train_w1.values())\n",
    "label_w1 = pd.concat(label_w1.values())"
   ]
  },
  {
   "cell_type": "markdown",
   "id": "d7e30b97",
   "metadata": {
    "papermill": {
     "duration": 0.002937,
     "end_time": "2022-12-01T15:24:30.331836",
     "exception": false,
     "start_time": "2022-12-01T15:24:30.328899",
     "status": "completed"
    },
    "tags": []
   },
   "source": [
    "# Preprocessing"
   ]
  },
  {
   "cell_type": "code",
   "execution_count": 5,
   "id": "34fba384",
   "metadata": {
    "execution": {
     "iopub.execute_input": "2022-12-01T15:24:30.340237Z",
     "iopub.status.busy": "2022-12-01T15:24:30.338606Z",
     "iopub.status.idle": "2022-12-01T15:24:30.344796Z",
     "shell.execute_reply": "2022-12-01T15:24:30.343898Z"
    },
    "papermill": {
     "duration": 0.012051,
     "end_time": "2022-12-01T15:24:30.346806",
     "exception": false,
     "start_time": "2022-12-01T15:24:30.334755",
     "status": "completed"
    },
    "tags": []
   },
   "outputs": [],
   "source": [
    "def prepare_target(label_df):\n",
    "\n",
    "    target = label_df.groupby(['session', 'type'])['aid'].apply(list)\n",
    "    target = target.reset_index().rename(columns={'aid': 'labels'})\n",
    "    target.loc[target.type == 0, 'labels'] = target.loc[target.type == 0, 'labels'].str[:1]\n",
    "    return target"
   ]
  },
  {
   "cell_type": "code",
   "execution_count": 6,
   "id": "727a9cac",
   "metadata": {
    "execution": {
     "iopub.execute_input": "2022-12-01T15:24:30.353644Z",
     "iopub.status.busy": "2022-12-01T15:24:30.353369Z",
     "iopub.status.idle": "2022-12-01T15:26:38.210872Z",
     "shell.execute_reply": "2022-12-01T15:26:38.209855Z"
    },
    "papermill": {
     "duration": 127.864106,
     "end_time": "2022-12-01T15:26:38.213830",
     "exception": false,
     "start_time": "2022-12-01T15:24:30.349724",
     "status": "completed"
    },
    "tags": []
   },
   "outputs": [],
   "source": [
    "label_w1 = prepare_target(label_w1)\n",
    "\n",
    "label_w1.to_parquet(PARENT_PATH+'label_w1.parquet')"
   ]
  },
  {
   "cell_type": "code",
   "execution_count": 7,
   "id": "06c46960",
   "metadata": {
    "execution": {
     "iopub.execute_input": "2022-12-01T15:26:38.221735Z",
     "iopub.status.busy": "2022-12-01T15:26:38.221433Z",
     "iopub.status.idle": "2022-12-01T15:26:48.466782Z",
     "shell.execute_reply": "2022-12-01T15:26:48.465801Z"
    },
    "papermill": {
     "duration": 10.252217,
     "end_time": "2022-12-01T15:26:48.469409",
     "exception": false,
     "start_time": "2022-12-01T15:26:38.217192",
     "status": "completed"
    },
    "tags": []
   },
   "outputs": [],
   "source": [
    "#label encoding aids\n",
    "\n",
    "# temp_all_data = pd.read_parquet('/kaggle/input/otto-full-optimized-memory-footprint/train.parquet')\n",
    "\n",
    "\n",
    "# le = preprocessing.LabelEncoder()\n",
    "# le.fit(temp_all_data['aid'])\n",
    "# del temp_all_data\n",
    "\n",
    "# train_w1['aid'] = le.transform(train_w1['aid'])\n",
    "# label_w1['aid'] = le.transform(label_w1['aid'])\n",
    "\n",
    "# #set start = 1 to reserve 0 for nan\n",
    "# train_w1['aid+1'] = train_w1['aid']+1\n",
    "# train_w1['aid'] = train_w1['aid+1']\n",
    "# label_w1['aid+1'] = label_w1['aid']+1\n",
    "# label_w1['aid'] = label_w1['aid+1']\n",
    "\n",
    "# train_w1 = train_w1.drop(['aid+1'], axis = 1)\n",
    "# label_w1 = label_w1.drop(['aid+1'], axis = 1)\n",
    "\n",
    "# joblib.dump(le, 'label_encoder.joblib')\n",
    "###############################################################################\n",
    "\n",
    "categ_feats = ['aid'] >> nvt.ops.Categorify(start_index=1)\n",
    "\n",
    "feats = categ_feats + ['session'] + ['ts'] + ['type']\n",
    "\n",
    "workflow = nvt.Workflow(feats)\n",
    "\n",
    "dataset_cat = nvt.Dataset(train_w1)\n",
    "\n",
    "workflow.fit(dataset_cat)\n",
    "workflow.transform(dataset_cat).to_parquet(CAT_PATH)\n",
    "\n",
    "del train_w1, dataset_cat, workflow, feats, categ_feats\n",
    "\n"
   ]
  },
  {
   "cell_type": "code",
   "execution_count": 8,
   "id": "3a687981",
   "metadata": {
    "execution": {
     "iopub.execute_input": "2022-12-01T15:26:48.476749Z",
     "iopub.status.busy": "2022-12-01T15:26:48.476461Z",
     "iopub.status.idle": "2022-12-01T15:26:49.720228Z",
     "shell.execute_reply": "2022-12-01T15:26:49.719268Z"
    },
    "papermill": {
     "duration": 1.250463,
     "end_time": "2022-12-01T15:26:49.723051",
     "exception": false,
     "start_time": "2022-12-01T15:26:48.472588",
     "status": "completed"
    },
    "tags": []
   },
   "outputs": [
    {
     "data": {
      "text/html": [
       "<div>\n",
       "<style scoped>\n",
       "    .dataframe tbody tr th:only-of-type {\n",
       "        vertical-align: middle;\n",
       "    }\n",
       "\n",
       "    .dataframe tbody tr th {\n",
       "        vertical-align: top;\n",
       "    }\n",
       "\n",
       "    .dataframe thead th {\n",
       "        text-align: right;\n",
       "    }\n",
       "</style>\n",
       "<table border=\"1\" class=\"dataframe\">\n",
       "  <thead>\n",
       "    <tr style=\"text-align: right;\">\n",
       "      <th></th>\n",
       "      <th>aid</th>\n",
       "      <th>session</th>\n",
       "      <th>ts</th>\n",
       "      <th>type</th>\n",
       "    </tr>\n",
       "  </thead>\n",
       "  <tbody>\n",
       "    <tr>\n",
       "      <th>0</th>\n",
       "      <td>329939</td>\n",
       "      <td>2045339</td>\n",
       "      <td>2022-08-02 19:45:42</td>\n",
       "      <td>0</td>\n",
       "    </tr>\n",
       "    <tr>\n",
       "      <th>1</th>\n",
       "      <td>107543</td>\n",
       "      <td>2045339</td>\n",
       "      <td>2022-08-05 19:05:03</td>\n",
       "      <td>0</td>\n",
       "    </tr>\n",
       "    <tr>\n",
       "      <th>2</th>\n",
       "      <td>49571</td>\n",
       "      <td>2045339</td>\n",
       "      <td>2022-08-05 19:05:41</td>\n",
       "      <td>0</td>\n",
       "    </tr>\n",
       "    <tr>\n",
       "      <th>3</th>\n",
       "      <td>3125</td>\n",
       "      <td>2045339</td>\n",
       "      <td>2022-08-05 19:14:26</td>\n",
       "      <td>0</td>\n",
       "    </tr>\n",
       "    <tr>\n",
       "      <th>4</th>\n",
       "      <td>34036</td>\n",
       "      <td>2045339</td>\n",
       "      <td>2022-08-05 19:16:36</td>\n",
       "      <td>0</td>\n",
       "    </tr>\n",
       "    <tr>\n",
       "      <th>...</th>\n",
       "      <td>...</td>\n",
       "      <td>...</td>\n",
       "      <td>...</td>\n",
       "      <td>...</td>\n",
       "    </tr>\n",
       "    <tr>\n",
       "      <th>26125674</th>\n",
       "      <td>99644</td>\n",
       "      <td>1578396</td>\n",
       "      <td>2022-08-02 11:43:04</td>\n",
       "      <td>0</td>\n",
       "    </tr>\n",
       "    <tr>\n",
       "      <th>26125675</th>\n",
       "      <td>9</td>\n",
       "      <td>1578397</td>\n",
       "      <td>2022-08-02 11:43:04</td>\n",
       "      <td>0</td>\n",
       "    </tr>\n",
       "    <tr>\n",
       "      <th>26125676</th>\n",
       "      <td>919</td>\n",
       "      <td>1578398</td>\n",
       "      <td>2022-08-02 11:43:04</td>\n",
       "      <td>0</td>\n",
       "    </tr>\n",
       "    <tr>\n",
       "      <th>26125677</th>\n",
       "      <td>18315</td>\n",
       "      <td>1578398</td>\n",
       "      <td>2022-08-02 11:44:10</td>\n",
       "      <td>0</td>\n",
       "    </tr>\n",
       "    <tr>\n",
       "      <th>26125678</th>\n",
       "      <td>1118</td>\n",
       "      <td>1578398</td>\n",
       "      <td>2022-08-02 11:44:38</td>\n",
       "      <td>0</td>\n",
       "    </tr>\n",
       "  </tbody>\n",
       "</table>\n",
       "<p>26125679 rows × 4 columns</p>\n",
       "</div>"
      ],
      "text/plain": [
       "             aid  session                  ts  type\n",
       "0         329939  2045339 2022-08-02 19:45:42     0\n",
       "1         107543  2045339 2022-08-05 19:05:03     0\n",
       "2          49571  2045339 2022-08-05 19:05:41     0\n",
       "3           3125  2045339 2022-08-05 19:14:26     0\n",
       "4          34036  2045339 2022-08-05 19:16:36     0\n",
       "...          ...      ...                 ...   ...\n",
       "26125674   99644  1578396 2022-08-02 11:43:04     0\n",
       "26125675       9  1578397 2022-08-02 11:43:04     0\n",
       "26125676     919  1578398 2022-08-02 11:43:04     0\n",
       "26125677   18315  1578398 2022-08-02 11:44:10     0\n",
       "26125678    1118  1578398 2022-08-02 11:44:38     0\n",
       "\n",
       "[26125679 rows x 4 columns]"
      ]
     },
     "execution_count": 8,
     "metadata": {},
     "output_type": "execute_result"
    }
   ],
   "source": [
    "train_w1 = pd.read_parquet( os.path.join(CAT_PATH, 'part_0.parquet'))\n",
    "train_w1"
   ]
  },
  {
   "cell_type": "markdown",
   "id": "6c9f70a9",
   "metadata": {
    "papermill": {
     "duration": 0.002988,
     "end_time": "2022-12-01T15:26:49.729716",
     "exception": false,
     "start_time": "2022-12-01T15:26:49.726728",
     "status": "completed"
    },
    "tags": []
   },
   "source": [
    "# Feature Engineering "
   ]
  },
  {
   "cell_type": "code",
   "execution_count": 9,
   "id": "2c55baef",
   "metadata": {
    "execution": {
     "iopub.execute_input": "2022-12-01T15:26:49.737155Z",
     "iopub.status.busy": "2022-12-01T15:26:49.736834Z",
     "iopub.status.idle": "2022-12-01T15:27:16.973220Z",
     "shell.execute_reply": "2022-12-01T15:27:16.972182Z"
    },
    "papermill": {
     "duration": 27.243102,
     "end_time": "2022-12-01T15:27:16.975944",
     "exception": false,
     "start_time": "2022-12-01T15:26:49.732842",
     "status": "completed"
    },
    "tags": []
   },
   "outputs": [],
   "source": [
    "def add_days_types(df):\n",
    "    df[['clicks_Monday', 'clicks_Tuesday', 'clicks_Wednesday', 'clicks_Thursday', 'clicks_Friday', 'clicks_Saturday', 'clicks_Sunday',\n",
    "         'carts_Monday', 'carts_Tuesday', 'carts_Wednesday', 'carts_Thursday', 'carts_Friday', 'carts_Saturday', 'carts_Sunday',\n",
    "         'order_Monday', 'order_Tuesday', 'order_Wednesday', 'order_Thursday', 'order_Friday', 'order_Saturday', 'order_Sunday',]] = 0 #default value for nan\n",
    "    df['weekday'] = df.ts.dt.weekday\n",
    "    \n",
    "    days_clicks = ['clicks_Monday', 'clicks_Tuesday', 'clicks_Wednesday', 'clicks_Thursday', 'clicks_Friday', 'clicks_Saturday', 'clicks_Sunday']\n",
    "    days_carts = ['carts_Monday', 'carts_Tuesday', 'carts_Wednesday', 'carts_Thursday', 'carts_Friday', 'carts_Saturday', 'carts_Sunday']\n",
    "    days_orders = ['order_Monday', 'order_Tuesday', 'order_Wednesday', 'order_Thursday', 'order_Friday', 'order_Saturday', 'order_Sunday',]\n",
    "    \n",
    "    types = [0,1,2]\n",
    "    \n",
    "    days_types = [days_clicks, days_carts, days_orders]\n",
    "    \n",
    "    for days, action in zip(days_types, types):\n",
    "        for day, wday in zip(days, range(7)):\n",
    "            df.loc[(df.weekday == wday) & (df.type == action) , day] = df.loc[(df.weekday == wday) & (df.type == action) ,'aid']\n",
    "            \n",
    "    return df\n",
    "            \n",
    "\n",
    "\n",
    "train_w1 = add_days_types(train_w1)\n",
    "train_w1.to_parquet(PARENT_PATH+'train_w1.parquet')\n",
    "del train_w1"
   ]
  },
  {
   "cell_type": "code",
   "execution_count": 10,
   "id": "58251b84",
   "metadata": {
    "execution": {
     "iopub.execute_input": "2022-12-01T15:27:16.985393Z",
     "iopub.status.busy": "2022-12-01T15:27:16.985083Z",
     "iopub.status.idle": "2022-12-01T15:27:26.301183Z",
     "shell.execute_reply": "2022-12-01T15:27:26.300029Z"
    },
    "papermill": {
     "duration": 9.322884,
     "end_time": "2022-12-01T15:27:26.303673",
     "exception": false,
     "start_time": "2022-12-01T15:27:16.980789",
     "status": "completed"
    },
    "tags": []
   },
   "outputs": [
    {
     "name": "stdout",
     "output_type": "stream",
     "text": [
      "workflow complete\n",
      "ds complete\n",
      "fit complete\n"
     ]
    }
   ],
   "source": [
    "# Define Groupby Workflow\n",
    "\n",
    "feats_agg = ['clicks_Monday', 'clicks_Tuesday', 'clicks_Wednesday', 'clicks_Thursday', 'clicks_Friday', 'clicks_Saturday', 'clicks_Sunday',\n",
    "         'carts_Monday', 'carts_Tuesday', 'carts_Wednesday', 'carts_Thursday', 'carts_Friday', 'carts_Saturday', 'carts_Sunday',\n",
    "         'order_Monday', 'order_Tuesday', 'order_Wednesday', 'order_Thursday', 'order_Friday', 'order_Saturday', 'order_Sunday', 'aid', 'type'] \n",
    "\n",
    "\n",
    "feature_clicks_1 = ['clicks_Monday', 'clicks_Tuesday', 'clicks_Wednesday'] + ['session'] \n",
    "\n",
    "feature_clicks_2 = ['clicks_Thursday', 'clicks_Friday', 'clicks_Saturday', 'clicks_Sunday',] + ['session']\n",
    "\n",
    "feature_carts_1 = ['carts_Monday', 'carts_Tuesday', 'carts_Wednesday'] + ['session'] \n",
    "\n",
    "feature_carts_2 = ['carts_Thursday', 'carts_Friday', 'carts_Saturday', 'carts_Sunday'] + ['session'] \n",
    "\n",
    "feature_order_1 = ['order_Monday', 'order_Tuesday', 'order_Wednesday' ] + ['session'] \n",
    "\n",
    "feature_order_2 = ['order_Thursday', 'order_Friday', 'order_Saturday', 'order_Sunday',] + ['session'] \n",
    "\n",
    "feature_aid_type = ['session'] + ['aid'] +['type']\n",
    "\n",
    "\n",
    "\n",
    "\n",
    "\n",
    "agg = {}\n",
    "for f in feats_agg:\n",
    "    agg[f] = ['list']\n",
    "\n",
    "# Group interaction features by session\n",
    "feature_clicks_1 = feature_clicks_1 >> nvt.ops.Groupby(\n",
    "    groupby_cols=[\"session\"], \n",
    "    aggs=agg,\n",
    "    name_sep=\"-\")\n",
    "\n",
    "feature_clicks_2 = feature_clicks_2 >> nvt.ops.Groupby(\n",
    "    groupby_cols=[\"session\"], \n",
    "    aggs=agg,\n",
    "    name_sep=\"-\")\n",
    "\n",
    "feature_carts_1 = feature_carts_1 >> nvt.ops.Groupby(\n",
    "    groupby_cols=[\"session\"], \n",
    "    aggs=agg,\n",
    "    name_sep=\"-\")\n",
    "\n",
    "feature_carts_2 = feature_carts_2 >> nvt.ops.Groupby(\n",
    "    groupby_cols=[\"session\"], \n",
    "    aggs=agg,\n",
    "    name_sep=\"-\")\n",
    "\n",
    "feature_order_1 = feature_order_1 >> nvt.ops.Groupby(\n",
    "    groupby_cols=[\"session\"], \n",
    "    aggs=agg,\n",
    "    name_sep=\"-\")\n",
    "\n",
    "feature_order_2 = feature_order_2 >> nvt.ops.Groupby(\n",
    "    groupby_cols=[\"session\"], \n",
    "    aggs=agg,\n",
    "    name_sep=\"-\")\n",
    "\n",
    "feature_aid_type = feature_aid_type  >> nvt.ops.Groupby(\n",
    "    groupby_cols=[\"session\"], \n",
    "    aggs=agg,\n",
    "    name_sep=\"-\")\n",
    "\n",
    "\n",
    "\n",
    "features = feature_clicks_1 + feature_clicks_2 + feature_carts_1 + feature_carts_2 + feature_order_1 + feature_order_2 + feature_aid_type\n",
    "\n",
    "workflow = nvt.Workflow(features)\n",
    "print('workflow complete')\n",
    "\n",
    "\n",
    "dataset = nvt.Dataset('/kaggle/working/train_w1.parquet')\n",
    "print('ds complete')\n",
    "\n",
    "\n",
    "workflow.fit(dataset)\n",
    "print('fit complete')\n",
    "\n",
    "workflow.transform(nvt.Dataset('/kaggle/working/train_w1.parquet')).to_parquet('/kaggle/working/output')\n",
    "\n",
    "del dataset, workflow"
   ]
  }
 ],
 "metadata": {
  "kernelspec": {
   "display_name": "Python 3",
   "language": "python",
   "name": "python3"
  },
  "language_info": {
   "codemirror_mode": {
    "name": "ipython",
    "version": 3
   },
   "file_extension": ".py",
   "mimetype": "text/x-python",
   "name": "python",
   "nbconvert_exporter": "python",
   "pygments_lexer": "ipython3",
   "version": "3.7.12"
  },
  "papermill": {
   "default_parameters": {},
   "duration": 413.368096,
   "end_time": "2022-12-01T15:27:29.329539",
   "environment_variables": {},
   "exception": null,
   "input_path": "__notebook__.ipynb",
   "output_path": "__notebook__.ipynb",
   "parameters": {},
   "start_time": "2022-12-01T15:20:35.961443",
   "version": "2.3.4"
  }
 },
 "nbformat": 4,
 "nbformat_minor": 5
}
