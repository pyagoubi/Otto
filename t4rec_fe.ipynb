{
 "cells": [
  {
   "cell_type": "code",
   "execution_count": 1,
   "id": "53832963",
   "metadata": {
    "_cell_guid": "b1076dfc-b9ad-4769-8c92-a6c4dae69d19",
    "_uuid": "8f2839f25d086af736a60e9eeb907d3b93b6e0e5",
    "execution": {
     "iopub.execute_input": "2022-12-01T00:04:12.197221Z",
     "iopub.status.busy": "2022-12-01T00:04:12.196394Z",
     "iopub.status.idle": "2022-12-01T00:07:39.359280Z",
     "shell.execute_reply": "2022-12-01T00:07:39.357898Z"
    },
    "papermill": {
     "duration": 207.17119,
     "end_time": "2022-12-01T00:07:39.362192",
     "exception": false,
     "start_time": "2022-12-01T00:04:12.191002",
     "status": "completed"
    },
    "tags": []
   },
   "outputs": [],
   "source": [
    "%%capture\n",
    "try:\n",
    "    import transformers4rec\n",
    "except:\n",
    "    print(\"Install packages\\n\\n\")\n",
    "    !pip install transformers4rec[pytorch,nvtabular]\n",
    "    !pip install -U nvtabular==1.3.3\n",
    "    !pip install beartype\n",
    "    !pip install -U pytorch_lightning"
   ]
  },
  {
   "cell_type": "code",
   "execution_count": 2,
   "id": "952f0d63",
   "metadata": {
    "execution": {
     "iopub.execute_input": "2022-12-01T00:07:39.370980Z",
     "iopub.status.busy": "2022-12-01T00:07:39.369338Z",
     "iopub.status.idle": "2022-12-01T00:07:48.746675Z",
     "shell.execute_reply": "2022-12-01T00:07:48.745663Z"
    },
    "papermill": {
     "duration": 9.383725,
     "end_time": "2022-12-01T00:07:48.749181",
     "exception": false,
     "start_time": "2022-12-01T00:07:39.365456",
     "status": "completed"
    },
    "tags": []
   },
   "outputs": [],
   "source": [
    "import os\n",
    "import ast\n",
    "import json\n",
    "import glob\n",
    "import torch\n",
    "import warnings\n",
    "import numpy as np\n",
    "import pandas as pd\n",
    "import seaborn as sns\n",
    "import nvtabular as nvt\n",
    "import matplotlib.pyplot as plt\n",
    "import gc\n",
    "import cudf\n",
    "\n",
    "from tqdm import tqdm\n",
    "from datetime import datetime\n",
    "from collections import Counter\n",
    "from sklearn import preprocessing\n",
    "\n",
    "warnings.simplefilter(action='ignore', category=FutureWarning)\n",
    "warnings.simplefilter(action='ignore', category=UserWarning)\n",
    "\n",
    "from nvtabular.ops import *\n",
    "from merlin.schema.tags import Tags\n",
    "from merlin_standard_lib import Schema\n",
    "#from transformers4rec import torch as tr\n",
    "#from transformers4rec.torch import Trainer\n",
    "#from transformers4rec.torch.ranking_metric import RecallAt\n",
    "from nvtabular.loader.torch import TorchAsyncItr, DLDataLoader\n",
    "from transformers4rec.config.trainer import T4RecTrainingArguments"
   ]
  },
  {
   "cell_type": "code",
   "execution_count": 3,
   "id": "e179f0d5",
   "metadata": {
    "execution": {
     "iopub.execute_input": "2022-12-01T00:07:48.757025Z",
     "iopub.status.busy": "2022-12-01T00:07:48.756722Z",
     "iopub.status.idle": "2022-12-01T00:07:48.762013Z",
     "shell.execute_reply": "2022-12-01T00:07:48.761117Z"
    },
    "papermill": {
     "duration": 0.011189,
     "end_time": "2022-12-01T00:07:48.764124",
     "exception": false,
     "start_time": "2022-12-01T00:07:48.752935",
     "status": "completed"
    },
    "tags": []
   },
   "outputs": [],
   "source": [
    "OUTPUT_PATH =  '/kaggle/working/'\n",
    "os.makedirs('output', exist_ok=True)"
   ]
  },
  {
   "cell_type": "code",
   "execution_count": 4,
   "id": "710086e8",
   "metadata": {
    "execution": {
     "iopub.execute_input": "2022-12-01T00:07:48.770771Z",
     "iopub.status.busy": "2022-12-01T00:07:48.770484Z",
     "iopub.status.idle": "2022-12-01T00:07:58.270553Z",
     "shell.execute_reply": "2022-12-01T00:07:58.269483Z"
    },
    "papermill": {
     "duration": 9.506943,
     "end_time": "2022-12-01T00:07:58.273702",
     "exception": false,
     "start_time": "2022-12-01T00:07:48.766759",
     "status": "completed"
    },
    "tags": []
   },
   "outputs": [],
   "source": [
    "train_w1 = dict()\n",
    "label_w1 = dict()\n",
    "\n",
    "for file in glob.glob(\"/kaggle/input/otto-prep-4-weeks/train_w0_part*.parquet\"):\n",
    "   train_w1[file] = pd.read_parquet(file)\n",
    "\n",
    "for file in glob.glob(\"/kaggle/input/otto-prep-4-weeks/label_w0_part*.parquet\"):\n",
    "   label_w1[file] = pd.read_parquet(file)\n",
    "\n",
    "train_w1 = pd.concat(train_w1.values())\n",
    "label_w1 = pd.concat(label_w1.values())"
   ]
  },
  {
   "cell_type": "markdown",
   "id": "971341f6",
   "metadata": {
    "papermill": {
     "duration": 0.002451,
     "end_time": "2022-12-01T00:07:58.279534",
     "exception": false,
     "start_time": "2022-12-01T00:07:58.277083",
     "status": "completed"
    },
    "tags": []
   },
   "source": [
    "# Preprocessing"
   ]
  },
  {
   "cell_type": "code",
   "execution_count": 5,
   "id": "00069320",
   "metadata": {
    "execution": {
     "iopub.execute_input": "2022-12-01T00:07:58.285939Z",
     "iopub.status.busy": "2022-12-01T00:07:58.285636Z",
     "iopub.status.idle": "2022-12-01T00:07:58.290982Z",
     "shell.execute_reply": "2022-12-01T00:07:58.289952Z"
    },
    "papermill": {
     "duration": 0.011345,
     "end_time": "2022-12-01T00:07:58.293393",
     "exception": false,
     "start_time": "2022-12-01T00:07:58.282048",
     "status": "completed"
    },
    "tags": []
   },
   "outputs": [],
   "source": [
    "def prepare_target(label_df):\n",
    "\n",
    "    target = label_df.groupby(['session', 'type'])['aid'].apply(list)\n",
    "    target = target.reset_index().rename(columns={'aid': 'labels'})\n",
    "    target.loc[target.type == 0, 'labels'] = target.loc[target.type == 0, 'labels'].str[:1]\n",
    "    return target"
   ]
  },
  {
   "cell_type": "code",
   "execution_count": 6,
   "id": "4c9b7d85",
   "metadata": {
    "execution": {
     "iopub.execute_input": "2022-12-01T00:07:58.299787Z",
     "iopub.status.busy": "2022-12-01T00:07:58.299520Z",
     "iopub.status.idle": "2022-12-01T00:08:54.141756Z",
     "shell.execute_reply": "2022-12-01T00:08:54.140724Z"
    },
    "papermill": {
     "duration": 55.84818,
     "end_time": "2022-12-01T00:08:54.144183",
     "exception": false,
     "start_time": "2022-12-01T00:07:58.296003",
     "status": "completed"
    },
    "tags": []
   },
   "outputs": [],
   "source": [
    "#label encoding aids\n",
    "\n",
    "temp_all_data = pd.read_parquet('/kaggle/input/otto-full-optimized-memory-footprint/train.parquet')\n",
    "\n",
    "\n",
    "le = preprocessing.LabelEncoder()\n",
    "le.fit(temp_all_data['aid'])\n",
    "del temp_all_data\n",
    "\n",
    "train_w1['aid'] = le.transform(train_w1['aid'])\n",
    "label_w1['aid'] = le.transform(label_w1['aid'])\n",
    "\n",
    "#set start = 1 to reserve 0 for nan\n",
    "train_w1['aid+1'] = train_w1['aid']+1\n",
    "train_w1['aid'] = train_w1['aid+1']\n",
    "label_w1['aid+1'] = label_w1['aid']+1\n",
    "label_w1['aid'] = label_w1['aid+1']\n",
    "\n",
    "train_w1 = train_w1.drop(['aid+1'], axis = 1)\n",
    "label_w1 = label_w1.drop(['aid+1'], axis = 1)\n",
    "\n"
   ]
  },
  {
   "cell_type": "code",
   "execution_count": 7,
   "id": "66239ef3",
   "metadata": {
    "execution": {
     "iopub.execute_input": "2022-12-01T00:08:54.151127Z",
     "iopub.status.busy": "2022-12-01T00:08:54.150830Z",
     "iopub.status.idle": "2022-12-01T00:11:03.586752Z",
     "shell.execute_reply": "2022-12-01T00:11:03.585709Z"
    },
    "papermill": {
     "duration": 129.442367,
     "end_time": "2022-12-01T00:11:03.589561",
     "exception": false,
     "start_time": "2022-12-01T00:08:54.147194",
     "status": "completed"
    },
    "tags": []
   },
   "outputs": [],
   "source": [
    "label_w1 = prepare_target(label_w1)\n",
    "\n",
    "label_w1.to_parquet(OUTPUT_PATH+'label_w1.parquet')"
   ]
  },
  {
   "cell_type": "markdown",
   "id": "b4379149",
   "metadata": {
    "papermill": {
     "duration": 0.002562,
     "end_time": "2022-12-01T00:11:03.595155",
     "exception": false,
     "start_time": "2022-12-01T00:11:03.592593",
     "status": "completed"
    },
    "tags": []
   },
   "source": [
    "# Feature Engineering "
   ]
  },
  {
   "cell_type": "code",
   "execution_count": 8,
   "id": "8b82eedd",
   "metadata": {
    "execution": {
     "iopub.execute_input": "2022-12-01T00:11:03.601812Z",
     "iopub.status.busy": "2022-12-01T00:11:03.601506Z",
     "iopub.status.idle": "2022-12-01T00:11:29.056893Z",
     "shell.execute_reply": "2022-12-01T00:11:29.055619Z"
    },
    "papermill": {
     "duration": 25.463373,
     "end_time": "2022-12-01T00:11:29.061228",
     "exception": false,
     "start_time": "2022-12-01T00:11:03.597855",
     "status": "completed"
    },
    "tags": []
   },
   "outputs": [],
   "source": [
    "def add_days_types(df):\n",
    "    df[['clicks_Monday', 'clicks_Tuesday', 'clicks_Wednesday', 'clicks_Thursday', 'clicks_Friday', 'clicks_Saturday', 'clicks_Sunday',\n",
    "         'carts_Monday', 'carts_Tuesday', 'carts_Wednesday', 'carts_Thursday', 'carts_Friday', 'carts_Saturday', 'carts_Sunday',\n",
    "         'order_Monday', 'order_Tuesday', 'order_Wednesday', 'order_Thursday', 'order_Friday', 'order_Saturday', 'order_Sunday',]] = 0 #default value for nan\n",
    "    df['weekday'] = df.ts.dt.weekday\n",
    "    \n",
    "    days_clicks = ['clicks_Monday', 'clicks_Tuesday', 'clicks_Wednesday', 'clicks_Thursday', 'clicks_Friday', 'clicks_Saturday', 'clicks_Sunday']\n",
    "    days_carts = ['carts_Monday', 'carts_Tuesday', 'carts_Wednesday', 'carts_Thursday', 'carts_Friday', 'carts_Saturday', 'carts_Sunday']\n",
    "    days_orders = ['order_Monday', 'order_Tuesday', 'order_Wednesday', 'order_Thursday', 'order_Friday', 'order_Saturday', 'order_Sunday',]\n",
    "    \n",
    "    types = [0,1,2]\n",
    "    \n",
    "    days_types = [days_clicks, days_carts, days_orders]\n",
    "    \n",
    "    for days, action in zip(days_types, types):\n",
    "        for day, wday in zip(days, range(7)):\n",
    "            df.loc[(df.weekday == wday) & (df.type == action) , day] = df.loc[(df.weekday == wday) & (df.type == action) ,'aid']\n",
    "            \n",
    "    return df\n",
    "            \n",
    "\n",
    "\n",
    "train_w1 = add_days_types(train_w1)\n",
    "train_w1.to_parquet(OUTPUT_PATH+'train_w1.parquet')\n",
    "del train_w1"
   ]
  },
  {
   "cell_type": "code",
   "execution_count": 9,
   "id": "56c5e1a6",
   "metadata": {
    "execution": {
     "iopub.execute_input": "2022-12-01T00:11:29.143212Z",
     "iopub.status.busy": "2022-12-01T00:11:29.142652Z",
     "iopub.status.idle": "2022-12-01T00:11:46.068694Z",
     "shell.execute_reply": "2022-12-01T00:11:46.067353Z"
    },
    "papermill": {
     "duration": 16.973866,
     "end_time": "2022-12-01T00:11:46.071736",
     "exception": false,
     "start_time": "2022-12-01T00:11:29.097870",
     "status": "completed"
    },
    "tags": []
   },
   "outputs": [
    {
     "name": "stdout",
     "output_type": "stream",
     "text": [
      "workflow complete\n",
      "ds complete\n",
      "fit complete\n"
     ]
    }
   ],
   "source": [
    "# Define Groupby Workflow\n",
    "features = ['clicks_Monday', 'clicks_Tuesday', 'clicks_Wednesday', 'clicks_Thursday', 'clicks_Friday', 'clicks_Saturday', 'clicks_Sunday',\n",
    "         'carts_Monday', 'carts_Tuesday', 'carts_Wednesday', 'carts_Thursday', 'carts_Friday', 'carts_Saturday', 'carts_Sunday',\n",
    "         'order_Monday', 'order_Tuesday', 'order_Wednesday', 'order_Thursday', 'order_Friday', 'order_Saturday', 'order_Sunday',] + ['session'] + ['aid'] +['type']\n",
    "\n",
    "feature_clicks_1 = ['clicks_Monday', 'clicks_Tuesday', 'clicks_Wednesday'] + ['session'] \n",
    "\n",
    "feature_clicks_2 = ['clicks_Thursday', 'clicks_Friday', 'clicks_Saturday', 'clicks_Sunday',] + ['session'] \n",
    "\n",
    "feature_carts_1 = ['carts_Monday', 'carts_Tuesday', 'carts_Wednesday'] + ['session'] \n",
    "\n",
    "feature_carts_2 = ['carts_Thursday', 'carts_Friday', 'carts_Saturday', 'carts_Sunday'] + ['session'] \n",
    "\n",
    "feature_order_1 = ['order_Monday', 'order_Tuesday', 'order_Wednesday' ] + ['session'] \n",
    "\n",
    "feature_order_2 = ['order_Thursday', 'order_Friday', 'order_Saturday', 'order_Sunday',] + ['session'] \n",
    "\n",
    "feature_aid_type = ['session'] + ['aid'] +['type']\n",
    "\n",
    "\n",
    "\n",
    "\n",
    "agg = {}\n",
    "for f in features:\n",
    "    agg[f] = ['list']\n",
    "\n",
    "# Group interaction features by session\n",
    "feature_clicks_1 = feature_clicks_1 >> nvt.ops.Groupby(\n",
    "    groupby_cols=[\"session\"], \n",
    "    aggs=agg,\n",
    "    name_sep=\"-\")\n",
    "\n",
    "feature_clicks_2 = feature_clicks_2 >> nvt.ops.Groupby(\n",
    "    groupby_cols=[\"session\"], \n",
    "    aggs=agg,\n",
    "    name_sep=\"-\")\n",
    "\n",
    "feature_carts_1 = feature_carts_1 >> nvt.ops.Groupby(\n",
    "    groupby_cols=[\"session\"], \n",
    "    aggs=agg,\n",
    "    name_sep=\"-\")\n",
    "\n",
    "feature_carts_2 = feature_carts_2 >> nvt.ops.Groupby(\n",
    "    groupby_cols=[\"session\"], \n",
    "    aggs=agg,\n",
    "    name_sep=\"-\")\n",
    "\n",
    "feature_order_1 = feature_order_1 >> nvt.ops.Groupby(\n",
    "    groupby_cols=[\"session\"], \n",
    "    aggs=agg,\n",
    "    name_sep=\"-\")\n",
    "\n",
    "feature_order_2 = feature_order_2 >> nvt.ops.Groupby(\n",
    "    groupby_cols=[\"session\"], \n",
    "    aggs=agg,\n",
    "    name_sep=\"-\")\n",
    "\n",
    "feature_aid_type = feature_aid_type  >> nvt.ops.Groupby(\n",
    "    groupby_cols=[\"session\"], \n",
    "    aggs=agg,\n",
    "    name_sep=\"-\")\n",
    "\n",
    "\n",
    "\n",
    "features = feature_clicks_1 + feature_clicks_2 + feature_carts_1 + feature_carts_2 + feature_order_1 + feature_order_2 + feature_aid_type\n",
    "\n",
    "workflow = nvt.Workflow(features)\n",
    "print('workflow complete')\n",
    "\n",
    "\n",
    "dataset = nvt.Dataset('/kaggle/working/train_w1.parquet')\n",
    "print('ds complete')\n",
    "\n",
    "\n",
    "workflow.fit(dataset)\n",
    "print('fit complete')\n",
    "\n",
    "workflow.transform(nvt.Dataset('/kaggle/working/train_w1.parquet')).to_parquet('/kaggle/working/output')"
   ]
  }
 ],
 "metadata": {
  "kernelspec": {
   "display_name": "Python 3",
   "language": "python",
   "name": "python3"
  },
  "language_info": {
   "codemirror_mode": {
    "name": "ipython",
    "version": 3
   },
   "file_extension": ".py",
   "mimetype": "text/x-python",
   "name": "python",
   "nbconvert_exporter": "python",
   "pygments_lexer": "ipython3",
   "version": "3.7.12"
  },
  "papermill": {
   "default_parameters": {},
   "duration": 464.339338,
   "end_time": "2022-12-01T00:11:48.900348",
   "environment_variables": {},
   "exception": null,
   "input_path": "__notebook__.ipynb",
   "output_path": "__notebook__.ipynb",
   "parameters": {},
   "start_time": "2022-12-01T00:04:04.561010",
   "version": "2.3.4"
  }
 },
 "nbformat": 4,
 "nbformat_minor": 5
}
