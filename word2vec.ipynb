{
 "cells": [
  {
   "cell_type": "markdown",
   "id": "dc6c9b6c",
   "metadata": {
    "papermill": {
     "duration": 0.004412,
     "end_time": "2022-12-22T16:08:30.542813",
     "exception": false,
     "start_time": "2022-12-22T16:08:30.538401",
     "status": "completed"
    },
    "tags": []
   },
   "source": [
    "# Data Preprocessing"
   ]
  },
  {
   "cell_type": "code",
   "execution_count": 1,
   "id": "605fb1ff",
   "metadata": {
    "execution": {
     "iopub.execute_input": "2022-12-22T16:08:30.551358Z",
     "iopub.status.busy": "2022-12-22T16:08:30.550887Z",
     "iopub.status.idle": "2022-12-22T16:08:50.582480Z",
     "shell.execute_reply": "2022-12-22T16:08:50.580821Z"
    },
    "papermill": {
     "duration": 20.040623,
     "end_time": "2022-12-22T16:08:50.586724",
     "exception": false,
     "start_time": "2022-12-22T16:08:30.546101",
     "status": "completed"
    },
    "tags": []
   },
   "outputs": [
    {
     "name": "stdout",
     "output_type": "stream",
     "text": [
      "Collecting polars\r\n",
      "  Downloading polars-0.15.8-cp37-abi3-manylinux_2_17_x86_64.manylinux2014_x86_64.whl (14.6 MB)\r\n",
      "\u001b[2K     \u001b[90m━━━━━━━━━━━━━━━━━━━━━━━━━━━━━━━━━━━━━━━━\u001b[0m \u001b[32m14.6/14.6 MB\u001b[0m \u001b[31m13.7 MB/s\u001b[0m eta \u001b[36m0:00:00\u001b[0m\r\n",
      "\u001b[?25hRequirement already satisfied: typing_extensions>=4.0.0 in /opt/conda/lib/python3.7/site-packages (from polars) (4.4.0)\r\n",
      "Installing collected packages: polars\r\n",
      "Successfully installed polars-0.15.8\r\n",
      "\u001b[33mWARNING: Running pip as the 'root' user can result in broken permissions and conflicting behaviour with the system package manager. It is recommended to use a virtual environment instead: https://pip.pypa.io/warnings/venv\u001b[0m\u001b[33m\r\n",
      "\u001b[0m"
     ]
    }
   ],
   "source": [
    "!pip install polars\n",
    "\n",
    "import pandas as pd\n",
    "import polars as pl\n",
    "from gensim.test.utils import common_texts\n",
    "from gensim.models import Word2Vec\n"
   ]
  },
  {
   "cell_type": "code",
   "execution_count": 2,
   "id": "b75ca315",
   "metadata": {
    "execution": {
     "iopub.execute_input": "2022-12-22T16:08:50.603508Z",
     "iopub.status.busy": "2022-12-22T16:08:50.603048Z",
     "iopub.status.idle": "2022-12-22T16:09:11.154883Z",
     "shell.execute_reply": "2022-12-22T16:09:11.153264Z"
    },
    "papermill": {
     "duration": 20.562043,
     "end_time": "2022-12-22T16:09:11.157678",
     "exception": false,
     "start_time": "2022-12-22T16:08:50.595635",
     "status": "completed"
    },
    "tags": []
   },
   "outputs": [],
   "source": [
    "train = pd.read_parquet('../input/otto-full-optimized-memory-footprint/train.parquet')\n",
    "test = pd.read_parquet('../input/otto-full-optimized-memory-footprint/test.parquet')"
   ]
  },
  {
   "cell_type": "code",
   "execution_count": 3,
   "id": "57eaa992",
   "metadata": {
    "execution": {
     "iopub.execute_input": "2022-12-22T16:09:11.172448Z",
     "iopub.status.busy": "2022-12-22T16:09:11.171337Z",
     "iopub.status.idle": "2022-12-22T16:09:24.900174Z",
     "shell.execute_reply": "2022-12-22T16:09:24.898928Z"
    },
    "papermill": {
     "duration": 13.739442,
     "end_time": "2022-12-22T16:09:24.903473",
     "exception": false,
     "start_time": "2022-12-22T16:09:11.164031",
     "status": "completed"
    },
    "tags": []
   },
   "outputs": [],
   "source": [
    "def label_encoding(df):\n",
    "\n",
    "    #set start = 2 to reserve 0 for mask and 1 for pad\n",
    "    df['aid+2'] = df['aid']+2\n",
    "    df['aid'] = df['aid+2']\n",
    "\n",
    "    df = df.drop(['aid+2'], axis = 1)\n",
    "    return df\n",
    "\n",
    "train = label_encoding(train)\n",
    "test = label_encoding(test)"
   ]
  },
  {
   "cell_type": "code",
   "execution_count": 4,
   "id": "dd608fc6",
   "metadata": {
    "execution": {
     "iopub.execute_input": "2022-12-22T16:09:24.918899Z",
     "iopub.status.busy": "2022-12-22T16:09:24.918406Z",
     "iopub.status.idle": "2022-12-22T16:09:31.304442Z",
     "shell.execute_reply": "2022-12-22T16:09:31.303181Z"
    },
    "papermill": {
     "duration": 6.396619,
     "end_time": "2022-12-22T16:09:31.307556",
     "exception": false,
     "start_time": "2022-12-22T16:09:24.910937",
     "status": "completed"
    },
    "tags": []
   },
   "outputs": [],
   "source": [
    "train.loc[len(train.index)]  = [19000000, 0,0,0]"
   ]
  },
  {
   "cell_type": "code",
   "execution_count": 5,
   "id": "b701b982",
   "metadata": {
    "execution": {
     "iopub.execute_input": "2022-12-22T16:09:31.322774Z",
     "iopub.status.busy": "2022-12-22T16:09:31.322306Z",
     "iopub.status.idle": "2022-12-22T16:09:33.788958Z",
     "shell.execute_reply": "2022-12-22T16:09:33.787746Z"
    },
    "papermill": {
     "duration": 2.477265,
     "end_time": "2022-12-22T16:09:33.791968",
     "exception": false,
     "start_time": "2022-12-22T16:09:31.314703",
     "status": "completed"
    },
    "tags": []
   },
   "outputs": [],
   "source": [
    "train.session = train.session.astype('int32')\n",
    "train.ts = train.ts.astype('int32')\n",
    "train.type =train.type.astype('uint8')"
   ]
  },
  {
   "cell_type": "code",
   "execution_count": 6,
   "id": "ba17b578",
   "metadata": {
    "execution": {
     "iopub.execute_input": "2022-12-22T16:09:33.805206Z",
     "iopub.status.busy": "2022-12-22T16:09:33.804793Z",
     "iopub.status.idle": "2022-12-22T16:10:34.680230Z",
     "shell.execute_reply": "2022-12-22T16:10:34.679027Z"
    },
    "papermill": {
     "duration": 60.885366,
     "end_time": "2022-12-22T16:10:34.683189",
     "exception": false,
     "start_time": "2022-12-22T16:09:33.797823",
     "status": "completed"
    },
    "tags": []
   },
   "outputs": [],
   "source": [
    "train = pl.DataFrame(train)\n",
    "test = pl.DataFrame(test)\n",
    "\n",
    "\n",
    "\n",
    "sentences_df = pl.concat([train, test]).groupby('session').agg(\n",
    "    pl.col('aid').alias('sentence')\n",
    ")\n",
    "\n",
    "sentences = sentences_df['sentence'].to_list()"
   ]
  },
  {
   "cell_type": "markdown",
   "id": "26e36c40",
   "metadata": {
    "papermill": {
     "duration": 0.005332,
     "end_time": "2022-12-22T16:10:34.694438",
     "exception": false,
     "start_time": "2022-12-22T16:10:34.689106",
     "status": "completed"
    },
    "tags": []
   },
   "source": [
    "# Training a word2vec model"
   ]
  },
  {
   "cell_type": "code",
   "execution_count": 7,
   "id": "8732c33b",
   "metadata": {
    "execution": {
     "iopub.execute_input": "2022-12-22T16:10:34.707306Z",
     "iopub.status.busy": "2022-12-22T16:10:34.706870Z",
     "iopub.status.idle": "2022-12-22T16:40:30.586843Z",
     "shell.execute_reply": "2022-12-22T16:40:30.585446Z"
    },
    "papermill": {
     "duration": 1795.894256,
     "end_time": "2022-12-22T16:40:30.594227",
     "exception": false,
     "start_time": "2022-12-22T16:10:34.699971",
     "status": "completed"
    },
    "tags": []
   },
   "outputs": [
    {
     "name": "stdout",
     "output_type": "stream",
     "text": [
      "CPU times: user 1h 32min 38s, sys: 23.2 s, total: 1h 33min 2s\n",
      "Wall time: 29min 55s\n"
     ]
    }
   ],
   "source": [
    "%%time\n",
    "\n",
    "w2vec = Word2Vec(sentences=sentences, vector_size=32, min_count=1, workers=4)\n",
    "w2vec.save(\"/kaggle/working/word2vec.model\")"
   ]
  }
 ],
 "metadata": {
  "kernelspec": {
   "display_name": "Python 3",
   "language": "python",
   "name": "python3"
  },
  "language_info": {
   "codemirror_mode": {
    "name": "ipython",
    "version": 3
   },
   "file_extension": ".py",
   "mimetype": "text/x-python",
   "name": "python",
   "nbconvert_exporter": "python",
   "pygments_lexer": "ipython3",
   "version": "3.7.12"
  },
  "papermill": {
   "default_parameters": {},
   "duration": 1935.434451,
   "end_time": "2022-12-22T16:40:34.331359",
   "environment_variables": {},
   "exception": null,
   "input_path": "__notebook__.ipynb",
   "output_path": "__notebook__.ipynb",
   "parameters": {},
   "start_time": "2022-12-22T16:08:18.896908",
   "version": "2.3.4"
  }
 },
 "nbformat": 4,
 "nbformat_minor": 5
}
