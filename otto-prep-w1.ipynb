{
 "cells": [
  {
   "cell_type": "code",
   "execution_count": 1,
   "id": "6c772185",
   "metadata": {
    "_cell_guid": "b1076dfc-b9ad-4769-8c92-a6c4dae69d19",
    "_uuid": "8f2839f25d086af736a60e9eeb907d3b93b6e0e5",
    "execution": {
     "iopub.execute_input": "2022-11-28T00:21:46.394188Z",
     "iopub.status.busy": "2022-11-28T00:21:46.393380Z",
     "iopub.status.idle": "2022-11-28T00:21:46.404860Z",
     "shell.execute_reply": "2022-11-28T00:21:46.403815Z"
    },
    "papermill": {
     "duration": 0.019013,
     "end_time": "2022-11-28T00:21:46.407060",
     "exception": false,
     "start_time": "2022-11-28T00:21:46.388047",
     "status": "completed"
    },
    "tags": []
   },
   "outputs": [],
   "source": [
    "import gc\n",
    "import os\n",
    "import warnings\n",
    "import numpy as np\n",
    "import pandas as pd\n",
    "import matplotlib.pyplot as plt\n",
    "import glob\n",
    "\n",
    "from tqdm import tqdm\n",
    "from datetime import datetime, timedelta, time"
   ]
  },
  {
   "cell_type": "code",
   "execution_count": 2,
   "id": "cea2f9e4",
   "metadata": {
    "execution": {
     "iopub.execute_input": "2022-11-28T00:21:46.413424Z",
     "iopub.status.busy": "2022-11-28T00:21:46.413072Z",
     "iopub.status.idle": "2022-11-28T00:21:46.416733Z",
     "shell.execute_reply": "2022-11-28T00:21:46.415954Z"
    },
    "papermill": {
     "duration": 0.009013,
     "end_time": "2022-11-28T00:21:46.418622",
     "exception": false,
     "start_time": "2022-11-28T00:21:46.409609",
     "status": "completed"
    },
    "tags": []
   },
   "outputs": [],
   "source": [
    "# os.makedirs('./temp', exist_ok=True)\n",
    "\n",
    "# TEMP_PATH = './temp/'"
   ]
  },
  {
   "cell_type": "code",
   "execution_count": 3,
   "id": "21948670",
   "metadata": {
    "execution": {
     "iopub.execute_input": "2022-11-28T00:21:46.424625Z",
     "iopub.status.busy": "2022-11-28T00:21:46.424220Z",
     "iopub.status.idle": "2022-11-28T00:22:50.947331Z",
     "shell.execute_reply": "2022-11-28T00:22:50.945971Z"
    },
    "papermill": {
     "duration": 64.528838,
     "end_time": "2022-11-28T00:22:50.949809",
     "exception": false,
     "start_time": "2022-11-28T00:21:46.420971",
     "status": "completed"
    },
    "tags": []
   },
   "outputs": [
    {
     "name": "stdout",
     "output_type": "stream",
     "text": [
      "2022-08-07 21:59:59\n",
      "CPU times: user 44.3 s, sys: 22.8 s, total: 1min 7s\n",
      "Wall time: 1min 4s\n"
     ]
    },
    {
     "data": {
      "text/plain": [
       "62"
      ]
     },
     "execution_count": 3,
     "metadata": {},
     "output_type": "execute_result"
    }
   ],
   "source": [
    "%%time\n",
    "\n",
    "train = pd.read_parquet('/kaggle/input/otto-full-optimized-memory-footprint/train.parquet')\n",
    "train['ts'] = pd.to_datetime(train['ts']*1e9)\n",
    "\n",
    "cutoff_w1 = train.ts.min() + timedelta(days = 6, hours = 23, minutes = 59, seconds = 59)\n",
    "print(cutoff_w1)\n",
    "\n",
    "train_w1 = train[train.ts <= cutoff_w1]\n",
    "train_w1 = train_w1.reset_index(drop = True)\n",
    "del train\n",
    "gc.collect()"
   ]
  },
  {
   "cell_type": "code",
   "execution_count": 4,
   "id": "9887d277",
   "metadata": {
    "execution": {
     "iopub.execute_input": "2022-11-28T00:22:50.956924Z",
     "iopub.status.busy": "2022-11-28T00:22:50.956467Z",
     "iopub.status.idle": "2022-11-28T00:22:57.485974Z",
     "shell.execute_reply": "2022-11-28T00:22:57.484779Z"
    },
    "papermill": {
     "duration": 6.53581,
     "end_time": "2022-11-28T00:22:57.488310",
     "exception": false,
     "start_time": "2022-11-28T00:22:50.952500",
     "status": "completed"
    },
    "tags": []
   },
   "outputs": [
    {
     "data": {
      "text/plain": [
       "34"
      ]
     },
     "execution_count": 4,
     "metadata": {},
     "output_type": "execute_result"
    }
   ],
   "source": [
    "#drop one_event_sessions\n",
    "one_event_df = train_w1.groupby('session', as_index = False).count()\n",
    "one_event_df = one_event_df[one_event_df['aid']==1]\n",
    "one_sessions =  one_event_df['session']\n",
    "train_w1 = train_w1[~train_w1['session'].isin(one_sessions)]\n",
    "del one_event_df, one_sessions\n",
    "gc.collect()"
   ]
  },
  {
   "cell_type": "code",
   "execution_count": 5,
   "id": "190b2804",
   "metadata": {
    "execution": {
     "iopub.execute_input": "2022-11-28T00:22:57.495297Z",
     "iopub.status.busy": "2022-11-28T00:22:57.494967Z",
     "iopub.status.idle": "2022-11-28T00:22:57.499444Z",
     "shell.execute_reply": "2022-11-28T00:22:57.498390Z"
    },
    "papermill": {
     "duration": 0.010556,
     "end_time": "2022-11-28T00:22:57.501731",
     "exception": false,
     "start_time": "2022-11-28T00:22:57.491175",
     "status": "completed"
    },
    "tags": []
   },
   "outputs": [],
   "source": [
    "# #split and save parquets\n",
    "\n",
    "# def split_file(train_w1=train_w1, splits = 5):\n",
    "#     co = len(train_w1.session.unique())//splits\n",
    "#     for i in range(splits):\n",
    "#         if i != splits-1: temp = train_w1[(train_w1.session < co*(i+1)) & (train_w1.session >= co*i)]\n",
    "#         else: temp = train_w1[train_w1.session >= co*i]\n",
    "#         temp.to_parquet(f'{TEMP_PATH}df_w1_part{i}.parquet')\n",
    "#         del temp\n",
    "                                                                          \n",
    "# split_file()\n",
    "# del train_w1\n",
    "# gc.collect() "
   ]
  },
  {
   "cell_type": "code",
   "execution_count": 6,
   "id": "b2b6abdc",
   "metadata": {
    "execution": {
     "iopub.execute_input": "2022-11-28T00:22:57.508561Z",
     "iopub.status.busy": "2022-11-28T00:22:57.508253Z",
     "iopub.status.idle": "2022-11-28T01:01:45.441597Z",
     "shell.execute_reply": "2022-11-28T01:01:45.440396Z"
    },
    "papermill": {
     "duration": 2328.208736,
     "end_time": "2022-11-28T01:01:45.713396",
     "exception": false,
     "start_time": "2022-11-28T00:22:57.504660",
     "status": "completed"
    },
    "tags": []
   },
   "outputs": [
    {
     "name": "stderr",
     "output_type": "stream",
     "text": [
      "4441142it [38:47, 1908.21it/s]"
     ]
    },
    {
     "name": "stdout",
     "output_type": "stream",
     "text": [
      "CPU times: user 37min 42s, sys: 1min 7s, total: 38min 50s\n",
      "Wall time: 38min 47s\n"
     ]
    },
    {
     "name": "stderr",
     "output_type": "stream",
     "text": [
      "\n"
     ]
    }
   ],
   "source": [
    "%%time\n",
    "\n",
    "def get_train_target():\n",
    "    \n",
    "    train_w1_list = []\n",
    "    label_w1 = []\n",
    "    j=0\n",
    "    end = len(train_w1.session.unique())\n",
    "    \n",
    "\n",
    "    for i, grp in tqdm(enumerate(train_w1.groupby('session'))):\n",
    "        cutoff = np.random.randint(1, grp[1].shape[0]) \n",
    "        train_w1_list.append(grp[1].iloc[:cutoff])\n",
    "        label_w1.append(grp[1].iloc[cutoff:])\n",
    "        if (i % 500000 == 0) or (i == end - 1):\n",
    "            train_w1_df = pd.concat(train_w1_list).reset_index(drop=True)\n",
    "            label_w1 = pd.concat(label_w1).reset_index(drop=True)\n",
    "            train_w1_df.to_parquet(f'/kaggle/working/train_w1_{j}.parquet')\n",
    "            label_w1.to_parquet(f'/kaggle/working/label_w1_{j}.parquet')\n",
    "            j += 1\n",
    "            del train_w1_list, label_w1\n",
    "            train_w1_list = []\n",
    "            label_w1 = []          \n",
    "            gc.collect()\n",
    "\n",
    "\n",
    "get_train_target()"
   ]
  }
 ],
 "metadata": {
  "kernelspec": {
   "display_name": "Python 3",
   "language": "python",
   "name": "python3"
  },
  "language_info": {
   "codemirror_mode": {
    "name": "ipython",
    "version": 3
   },
   "file_extension": ".py",
   "mimetype": "text/x-python",
   "name": "python",
   "nbconvert_exporter": "python",
   "pygments_lexer": "ipython3",
   "version": "3.7.12"
  },
  "papermill": {
   "default_parameters": {},
   "duration": 2408.645006,
   "end_time": "2022-11-28T01:01:46.807427",
   "environment_variables": {},
   "exception": null,
   "input_path": "__notebook__.ipynb",
   "output_path": "__notebook__.ipynb",
   "parameters": {},
   "start_time": "2022-11-28T00:21:38.162421",
   "version": "2.3.4"
  }
 },
 "nbformat": 4,
 "nbformat_minor": 5
}
