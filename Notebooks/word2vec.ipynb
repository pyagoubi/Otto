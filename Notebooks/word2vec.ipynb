{
 "cells": [
  {
   "cell_type": "markdown",
   "id": "a98d08ce",
   "metadata": {
    "papermill": {
     "duration": 0.004024,
     "end_time": "2023-01-06T21:22:45.781426",
     "exception": false,
     "start_time": "2023-01-06T21:22:45.777402",
     "status": "completed"
    },
    "tags": []
   },
   "source": [
    "# Data Preprocessing"
   ]
  },
  {
   "cell_type": "code",
   "execution_count": 1,
   "id": "688e8699",
   "metadata": {
    "execution": {
     "iopub.execute_input": "2023-01-06T21:22:45.789612Z",
     "iopub.status.busy": "2023-01-06T21:22:45.789138Z",
     "iopub.status.idle": "2023-01-06T21:23:02.374764Z",
     "shell.execute_reply": "2023-01-06T21:23:02.373547Z"
    },
    "papermill": {
     "duration": 16.593351,
     "end_time": "2023-01-06T21:23:02.377932",
     "exception": false,
     "start_time": "2023-01-06T21:22:45.784581",
     "status": "completed"
    },
    "tags": []
   },
   "outputs": [
    {
     "name": "stdout",
     "output_type": "stream",
     "text": [
      "Collecting polars\r\n",
      "  Downloading polars-0.15.13-cp37-abi3-manylinux_2_17_x86_64.manylinux2014_x86_64.whl (14.7 MB)\r\n",
      "\u001b[2K     \u001b[90m━━━━━━━━━━━━━━━━━━━━━━━━━━━━━━━━━━━━━━━━\u001b[0m \u001b[32m14.7/14.7 MB\u001b[0m \u001b[31m31.8 MB/s\u001b[0m eta \u001b[36m0:00:00\u001b[0m\r\n",
      "\u001b[?25hRequirement already satisfied: typing_extensions>=4.0.0 in /opt/conda/lib/python3.7/site-packages (from polars) (4.4.0)\r\n",
      "Installing collected packages: polars\r\n",
      "Successfully installed polars-0.15.13\r\n",
      "\u001b[33mWARNING: Running pip as the 'root' user can result in broken permissions and conflicting behaviour with the system package manager. It is recommended to use a virtual environment instead: https://pip.pypa.io/warnings/venv\u001b[0m\u001b[33m\r\n",
      "\u001b[0m"
     ]
    }
   ],
   "source": [
    "!pip install polars\n",
    "\n",
    "import pandas as pd\n",
    "import polars as pl\n",
    "from gensim.test.utils import common_texts\n",
    "from gensim.models import Word2Vec\n"
   ]
  },
  {
   "cell_type": "code",
   "execution_count": 2,
   "id": "f0f7fdf9",
   "metadata": {
    "execution": {
     "iopub.execute_input": "2023-01-06T21:23:02.389123Z",
     "iopub.status.busy": "2023-01-06T21:23:02.388675Z",
     "iopub.status.idle": "2023-01-06T21:23:21.823619Z",
     "shell.execute_reply": "2023-01-06T21:23:21.822543Z"
    },
    "papermill": {
     "duration": 19.445109,
     "end_time": "2023-01-06T21:23:21.827460",
     "exception": false,
     "start_time": "2023-01-06T21:23:02.382351",
     "status": "completed"
    },
    "tags": []
   },
   "outputs": [],
   "source": [
    "train = pd.read_parquet('../input/otto-full-optimized-memory-footprint/train.parquet')\n",
    "test = pd.read_parquet('../input/otto-full-optimized-memory-footprint/test.parquet')"
   ]
  },
  {
   "cell_type": "code",
   "execution_count": 3,
   "id": "c906759b",
   "metadata": {
    "execution": {
     "iopub.execute_input": "2023-01-06T21:23:21.847673Z",
     "iopub.status.busy": "2023-01-06T21:23:21.847058Z",
     "iopub.status.idle": "2023-01-06T21:23:48.666712Z",
     "shell.execute_reply": "2023-01-06T21:23:48.660548Z"
    },
    "papermill": {
     "duration": 26.846833,
     "end_time": "2023-01-06T21:23:48.683445",
     "exception": false,
     "start_time": "2023-01-06T21:23:21.836612",
     "status": "completed"
    },
    "tags": []
   },
   "outputs": [],
   "source": [
    "def map_column(df: pd.DataFrame, col_name: str):\n",
    "    \n",
    "    aid_sorted = sorted(list(df[col_name].unique()))\n",
    "    mapping = {k: i + 2 for i, k in enumerate(aid_sorted)}\n",
    "    inverse_mapping = {v: k for k, v in mapping.items()}\n",
    "\n",
    "    df[col_name] = df[col_name].map(mapping)\n",
    "\n",
    "    return df, mapping, inverse_mapping\n",
    "\n",
    "\n",
    "\n",
    "\n",
    "train, mapping, inverse_mapping = map_column(train, 'aid')\n",
    "test['aid'] = test['aid'].map(mapping)"
   ]
  },
  {
   "cell_type": "code",
   "execution_count": 4,
   "id": "c806a496",
   "metadata": {
    "execution": {
     "iopub.execute_input": "2023-01-06T21:23:48.714345Z",
     "iopub.status.busy": "2023-01-06T21:23:48.713790Z",
     "iopub.status.idle": "2023-01-06T21:23:57.668065Z",
     "shell.execute_reply": "2023-01-06T21:23:57.665887Z"
    },
    "papermill": {
     "duration": 8.96803,
     "end_time": "2023-01-06T21:23:57.671986",
     "exception": false,
     "start_time": "2023-01-06T21:23:48.703956",
     "status": "completed"
    },
    "tags": []
   },
   "outputs": [],
   "source": [
    "train.loc[len(train.index)]  = [19000000, 0,0,0]"
   ]
  },
  {
   "cell_type": "code",
   "execution_count": 5,
   "id": "d55108b9",
   "metadata": {
    "execution": {
     "iopub.execute_input": "2023-01-06T21:23:57.683841Z",
     "iopub.status.busy": "2023-01-06T21:23:57.683395Z",
     "iopub.status.idle": "2023-01-06T21:23:59.342473Z",
     "shell.execute_reply": "2023-01-06T21:23:59.341228Z"
    },
    "papermill": {
     "duration": 1.668493,
     "end_time": "2023-01-06T21:23:59.345459",
     "exception": false,
     "start_time": "2023-01-06T21:23:57.676966",
     "status": "completed"
    },
    "tags": []
   },
   "outputs": [],
   "source": [
    "train.session = train.session.astype('int32')\n",
    "train.ts = train.ts.astype('int32')\n",
    "train.type =train.type.astype('uint8')"
   ]
  },
  {
   "cell_type": "code",
   "execution_count": 6,
   "id": "ee67556a",
   "metadata": {
    "execution": {
     "iopub.execute_input": "2023-01-06T21:23:59.355479Z",
     "iopub.status.busy": "2023-01-06T21:23:59.355052Z",
     "iopub.status.idle": "2023-01-06T21:25:01.884451Z",
     "shell.execute_reply": "2023-01-06T21:25:01.883127Z"
    },
    "papermill": {
     "duration": 62.537935,
     "end_time": "2023-01-06T21:25:01.887540",
     "exception": false,
     "start_time": "2023-01-06T21:23:59.349605",
     "status": "completed"
    },
    "tags": []
   },
   "outputs": [],
   "source": [
    "train = pl.DataFrame(train)\n",
    "test = pl.DataFrame(test)\n",
    "\n",
    "\n",
    "\n",
    "sentences_df = pl.concat([train, test]).groupby('session').agg(\n",
    "    pl.col('aid').alias('sentence')\n",
    ")\n",
    "\n",
    "sentences = sentences_df['sentence'].to_list()"
   ]
  },
  {
   "cell_type": "markdown",
   "id": "079d5d75",
   "metadata": {
    "papermill": {
     "duration": 0.003627,
     "end_time": "2023-01-06T21:25:01.895258",
     "exception": false,
     "start_time": "2023-01-06T21:25:01.891631",
     "status": "completed"
    },
    "tags": []
   },
   "source": [
    "# Training a word2vec model"
   ]
  },
  {
   "cell_type": "code",
   "execution_count": 7,
   "id": "4710bbfc",
   "metadata": {
    "execution": {
     "iopub.execute_input": "2023-01-06T21:25:01.905317Z",
     "iopub.status.busy": "2023-01-06T21:25:01.904223Z",
     "iopub.status.idle": "2023-01-06T21:54:03.158341Z",
     "shell.execute_reply": "2023-01-06T21:54:03.155015Z"
    },
    "papermill": {
     "duration": 1741.267737,
     "end_time": "2023-01-06T21:54:03.166770",
     "exception": false,
     "start_time": "2023-01-06T21:25:01.899033",
     "status": "completed"
    },
    "tags": []
   },
   "outputs": [
    {
     "name": "stdout",
     "output_type": "stream",
     "text": [
      "CPU times: user 1h 28min 29s, sys: 21.6 s, total: 1h 28min 51s\n",
      "Wall time: 29min 1s\n"
     ]
    }
   ],
   "source": [
    "%%time\n",
    "\n",
    "w2vec = Word2Vec(sentences=sentences, vector_size=32, min_count=1, workers=4)\n",
    "w2vec.save(\"/kaggle/working/word2vec.model\")"
   ]
  }
 ],
 "metadata": {
  "kernelspec": {
   "display_name": "Python 3",
   "language": "python",
   "name": "python3"
  },
  "language_info": {
   "codemirror_mode": {
    "name": "ipython",
    "version": 3
   },
   "file_extension": ".py",
   "mimetype": "text/x-python",
   "name": "python",
   "nbconvert_exporter": "python",
   "pygments_lexer": "ipython3",
   "version": "3.7.12"
  },
  "papermill": {
   "default_parameters": {},
   "duration": 1890.785949,
   "end_time": "2023-01-06T21:54:06.905113",
   "environment_variables": {},
   "exception": null,
   "input_path": "__notebook__.ipynb",
   "output_path": "__notebook__.ipynb",
   "parameters": {},
   "start_time": "2023-01-06T21:22:36.119164",
   "version": "2.3.4"
  }
 },
 "nbformat": 4,
 "nbformat_minor": 5
}
