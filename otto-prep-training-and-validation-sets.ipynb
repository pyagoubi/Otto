{
 "cells": [
  {
   "cell_type": "code",
   "execution_count": 1,
   "id": "ad86a94a",
   "metadata": {
    "_cell_guid": "b1076dfc-b9ad-4769-8c92-a6c4dae69d19",
    "_uuid": "8f2839f25d086af736a60e9eeb907d3b93b6e0e5",
    "execution": {
     "iopub.execute_input": "2022-11-29T00:18:26.990023Z",
     "iopub.status.busy": "2022-11-29T00:18:26.989606Z",
     "iopub.status.idle": "2022-11-29T00:18:26.998241Z",
     "shell.execute_reply": "2022-11-29T00:18:26.997617Z"
    },
    "papermill": {
     "duration": 0.014904,
     "end_time": "2022-11-29T00:18:27.000748",
     "exception": false,
     "start_time": "2022-11-29T00:18:26.985844",
     "status": "completed"
    },
    "tags": []
   },
   "outputs": [],
   "source": [
    "import gc\n",
    "import os\n",
    "import warnings\n",
    "import numpy as np\n",
    "import pandas as pd\n",
    "import matplotlib.pyplot as plt\n",
    "import glob\n",
    "\n",
    "from tqdm import tqdm\n",
    "from datetime import datetime, timedelta, time"
   ]
  },
  {
   "cell_type": "code",
   "execution_count": 2,
   "id": "943c207c",
   "metadata": {
    "execution": {
     "iopub.execute_input": "2022-11-29T00:18:27.005490Z",
     "iopub.status.busy": "2022-11-29T00:18:27.005182Z",
     "iopub.status.idle": "2022-11-29T00:19:12.567206Z",
     "shell.execute_reply": "2022-11-29T00:19:12.565748Z"
    },
    "papermill": {
     "duration": 45.567218,
     "end_time": "2022-11-29T00:19:12.569800",
     "exception": false,
     "start_time": "2022-11-29T00:18:27.002582",
     "status": "completed"
    },
    "tags": []
   },
   "outputs": [
    {
     "name": "stdout",
     "output_type": "stream",
     "text": [
      "CPU times: user 29.7 s, sys: 9.98 s, total: 39.7 s\n",
      "Wall time: 45.6 s\n"
     ]
    }
   ],
   "source": [
    "%%time\n",
    "\n",
    "train = pd.read_parquet('/kaggle/input/otto-full-optimized-memory-footprint/train.parquet')\n",
    "train['ts'] = pd.to_datetime(train['ts']*1e9)"
   ]
  },
  {
   "cell_type": "code",
   "execution_count": 3,
   "id": "d2abc036",
   "metadata": {
    "execution": {
     "iopub.execute_input": "2022-11-29T00:19:12.575635Z",
     "iopub.status.busy": "2022-11-29T00:19:12.574345Z",
     "iopub.status.idle": "2022-11-29T03:04:03.503709Z",
     "shell.execute_reply": "2022-11-29T03:04:03.502612Z"
    },
    "papermill": {
     "duration": 9891.972032,
     "end_time": "2022-11-29T03:04:04.543597",
     "exception": false,
     "start_time": "2022-11-29T00:19:12.571565",
     "status": "completed"
    },
    "tags": []
   },
   "outputs": [
    {
     "name": "stderr",
     "output_type": "stream",
     "text": [
      "4441141it [40:17, 1837.39it/s]\n",
      "4653667it [42:21, 1830.90it/s]\n",
      "4642741it [42:19, 1828.53it/s]\n",
      "4356191it [39:08, 1854.59it/s]"
     ]
    },
    {
     "name": "stdout",
     "output_type": "stream",
     "text": [
      "CPU times: user 2h 41min 35s, sys: 3min 31s, total: 2h 45min 7s\n",
      "Wall time: 2h 44min 50s\n"
     ]
    },
    {
     "name": "stderr",
     "output_type": "stream",
     "text": [
      "\n"
     ]
    }
   ],
   "source": [
    "%%time\n",
    "\n",
    "def get_train_target():\n",
    "    \n",
    "    \n",
    "    delta = timedelta(days = 6, hours = 23, minutes = 59, seconds = 59)\n",
    "    \n",
    "    for k in range(4):\n",
    "        \n",
    "        train_temp = train[(train.ts > train.ts.min() + k* delta) & (train.ts <= train.ts.min() + (k+1)* delta)].reset_index(drop = True)\n",
    "        \n",
    "        # #drop one_event_sessions\n",
    "        one_event_df = train_temp.groupby('session', as_index = False).count()\n",
    "        one_event_df = one_event_df[one_event_df['aid']==1]\n",
    "        one_sessions =  one_event_df['session']\n",
    "        train_temp = train_temp[~train_temp['session'].isin(one_sessions)]\n",
    "        del one_event_df, one_sessions\n",
    "\n",
    "\n",
    "        train_list = []\n",
    "        label_list = []\n",
    "        j=0\n",
    "        end = len(train_temp.session.unique())\n",
    "\n",
    "\n",
    "        for i, grp in tqdm(enumerate(train_temp.groupby('session'))):\n",
    "            cutoff = np.random.randint(1, grp[1].shape[0]) \n",
    "            train_list.append(grp[1].iloc[:cutoff])\n",
    "            label_list.append(grp[1].iloc[cutoff:])\n",
    "            if (i % 200000 == 0) or (i == end - 1):\n",
    "                train_df = pd.concat(train_list).reset_index(drop=True)\n",
    "                label_df = pd.concat(label_list).reset_index(drop=True)\n",
    "                train_df.to_parquet(f'/kaggle/working/train_w{k}_part{j}.parquet')\n",
    "                label_df.to_parquet(f'/kaggle/working/label_w{k}_part{j}.parquet')\n",
    "                j += 1\n",
    "                del train_list, label_list, label_df, train_df\n",
    "                train_list = []\n",
    "                label_list = []          \n",
    "                gc.collect()\n",
    "        del train_temp\n",
    "        gc.collect()\n",
    "\n",
    "\n",
    "get_train_target()"
   ]
  }
 ],
 "metadata": {
  "kernelspec": {
   "display_name": "Python 3",
   "language": "python",
   "name": "python3"
  },
  "language_info": {
   "codemirror_mode": {
    "name": "ipython",
    "version": 3
   },
   "file_extension": ".py",
   "mimetype": "text/x-python",
   "name": "python",
   "nbconvert_exporter": "python",
   "pygments_lexer": "ipython3",
   "version": "3.7.12"
  },
  "papermill": {
   "default_parameters": {},
   "duration": 9947.185929,
   "end_time": "2022-11-29T03:04:06.666052",
   "environment_variables": {},
   "exception": null,
   "input_path": "__notebook__.ipynb",
   "output_path": "__notebook__.ipynb",
   "parameters": {},
   "start_time": "2022-11-29T00:18:19.480123",
   "version": "2.3.4"
  }
 },
 "nbformat": 4,
 "nbformat_minor": 5
}
