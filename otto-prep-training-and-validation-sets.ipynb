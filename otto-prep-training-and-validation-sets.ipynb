{
 "cells": [
  {
   "cell_type": "code",
   "execution_count": 1,
   "id": "32de82e0",
   "metadata": {
    "_cell_guid": "b1076dfc-b9ad-4769-8c92-a6c4dae69d19",
    "_uuid": "8f2839f25d086af736a60e9eeb907d3b93b6e0e5",
    "execution": {
     "iopub.execute_input": "2022-11-29T13:52:15.884456Z",
     "iopub.status.busy": "2022-11-29T13:52:15.883053Z",
     "iopub.status.idle": "2022-11-29T13:52:15.896864Z",
     "shell.execute_reply": "2022-11-29T13:52:15.895714Z"
    },
    "papermill": {
     "duration": 0.021012,
     "end_time": "2022-11-29T13:52:15.899421",
     "exception": false,
     "start_time": "2022-11-29T13:52:15.878409",
     "status": "completed"
    },
    "tags": []
   },
   "outputs": [],
   "source": [
    "import gc\n",
    "import os\n",
    "import warnings\n",
    "import numpy as np\n",
    "import pandas as pd\n",
    "import matplotlib.pyplot as plt\n",
    "import glob\n",
    "\n",
    "from tqdm import tqdm\n",
    "from datetime import datetime, timedelta, time"
   ]
  },
  {
   "cell_type": "code",
   "execution_count": 2,
   "id": "cc385dd1",
   "metadata": {
    "execution": {
     "iopub.execute_input": "2022-11-29T13:52:15.904884Z",
     "iopub.status.busy": "2022-11-29T13:52:15.904516Z",
     "iopub.status.idle": "2022-11-29T13:53:18.704727Z",
     "shell.execute_reply": "2022-11-29T13:53:18.703163Z"
    },
    "papermill": {
     "duration": 62.806817,
     "end_time": "2022-11-29T13:53:18.708307",
     "exception": false,
     "start_time": "2022-11-29T13:52:15.901490",
     "status": "completed"
    },
    "tags": []
   },
   "outputs": [
    {
     "name": "stdout",
     "output_type": "stream",
     "text": [
      "CPU times: user 41.1 s, sys: 21.5 s, total: 1min 2s\n",
      "Wall time: 1min 2s\n"
     ]
    }
   ],
   "source": [
    "%%time\n",
    "\n",
    "train = pd.read_parquet('/kaggle/input/otto-full-optimized-memory-footprint/train.parquet')\n",
    "train['ts'] = pd.to_datetime(train['ts']*1e9)"
   ]
  },
  {
   "cell_type": "code",
   "execution_count": 3,
   "id": "603c0a7a",
   "metadata": {
    "execution": {
     "iopub.execute_input": "2022-11-29T13:53:18.714037Z",
     "iopub.status.busy": "2022-11-29T13:53:18.713405Z",
     "iopub.status.idle": "2022-11-29T16:37:22.331061Z",
     "shell.execute_reply": "2022-11-29T16:37:22.329950Z"
    },
    "papermill": {
     "duration": 9844.829432,
     "end_time": "2022-11-29T16:37:23.539668",
     "exception": false,
     "start_time": "2022-11-29T13:53:18.710236",
     "status": "completed"
    },
    "tags": []
   },
   "outputs": [
    {
     "name": "stderr",
     "output_type": "stream",
     "text": [
      "4441142it [39:22, 1879.68it/s]\n",
      "4653667it [41:45, 1857.33it/s]\n",
      "4642741it [42:05, 1838.34it/s]\n",
      "4356191it [39:44, 1826.96it/s]"
     ]
    },
    {
     "name": "stdout",
     "output_type": "stream",
     "text": [
      "CPU times: user 2h 39min 16s, sys: 4min 57s, total: 2h 44min 13s\n",
      "Wall time: 2h 44min 3s\n"
     ]
    },
    {
     "name": "stderr",
     "output_type": "stream",
     "text": [
      "\n"
     ]
    }
   ],
   "source": [
    "%%time\n",
    "\n",
    "def get_train_target():\n",
    "    \n",
    "    \n",
    "    delta = timedelta(days = 6, hours = 23, minutes = 59, seconds = 59)\n",
    "    \n",
    "    for k in range(4):\n",
    "        \n",
    "        if k == 0: train_temp = train[(train.ts >= train.ts.min()) & (train.ts <= train.ts.min() + (k+1)* delta)].reset_index(drop = True)\n",
    "        else: train_temp = train[(train.ts > train.ts.min() + k* delta) & (train.ts <= train.ts.min() + (k+1)* delta)].reset_index(drop = True)\n",
    "        \n",
    "        # #drop one_event_sessions\n",
    "        one_event_df = train_temp.groupby('session', as_index = False).count()\n",
    "        one_event_df = one_event_df[one_event_df['aid']==1]\n",
    "        one_sessions =  one_event_df['session']\n",
    "        train_temp = train_temp[~train_temp['session'].isin(one_sessions)]\n",
    "        del one_event_df, one_sessions\n",
    "\n",
    "\n",
    "        train_list = []\n",
    "        label_list = []\n",
    "        j=0\n",
    "        end = len(train_temp.session.unique())\n",
    "\n",
    "\n",
    "        for i, grp in tqdm(enumerate(train_temp.groupby('session'))):\n",
    "            cutoff = np.random.randint(1, grp[1].shape[0]) \n",
    "            train_list.append(grp[1].iloc[:cutoff])\n",
    "            label_list.append(grp[1].iloc[cutoff:])\n",
    "            if (i % 200000 == 0) or (i == end - 1):\n",
    "                train_df = pd.concat(train_list).reset_index(drop=True)\n",
    "                label_df = pd.concat(label_list).reset_index(drop=True)\n",
    "                train_df.to_parquet(f'/kaggle/working/train_w{k}_part{j}.parquet')\n",
    "                label_df.to_parquet(f'/kaggle/working/label_w{k}_part{j}.parquet')\n",
    "                j += 1\n",
    "                del train_list, label_list, label_df, train_df\n",
    "                train_list = []\n",
    "                label_list = []          \n",
    "                gc.collect()\n",
    "        del train_temp\n",
    "        gc.collect()\n",
    "\n",
    "\n",
    "get_train_target()"
   ]
  }
 ],
 "metadata": {
  "kernelspec": {
   "display_name": "Python 3",
   "language": "python",
   "name": "python3"
  },
  "language_info": {
   "codemirror_mode": {
    "name": "ipython",
    "version": 3
   },
   "file_extension": ".py",
   "mimetype": "text/x-python",
   "name": "python",
   "nbconvert_exporter": "python",
   "pygments_lexer": "ipython3",
   "version": "3.7.12"
  },
  "papermill": {
   "default_parameters": {},
   "duration": 9918.364215,
   "end_time": "2022-11-29T16:37:25.762529",
   "environment_variables": {},
   "exception": null,
   "input_path": "__notebook__.ipynb",
   "output_path": "__notebook__.ipynb",
   "parameters": {},
   "start_time": "2022-11-29T13:52:07.398314",
   "version": "2.3.4"
  }
 },
 "nbformat": 4,
 "nbformat_minor": 5
}
